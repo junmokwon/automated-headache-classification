{
 "cells": [
  {
   "cell_type": "markdown",
   "metadata": {},
   "source": [
    "# Machine learning-based automated classification of headache disorders using patient-reported questionnaires"
   ]
  },
  {
   "cell_type": "markdown",
   "metadata": {},
   "source": [
    "### Configuration"
   ]
  },
  {
   "cell_type": "code",
   "execution_count": 1,
   "metadata": {},
   "outputs": [],
   "source": [
    "# A csv file containing feature appearance information.\n",
    "# [model_index] should be within the range from 1 to [num_models].\n",
    "# [fold_index] should be within the range from 1 to [num_folds].\n",
    "feature_appearance_csv_filename = \"data/model_{model_index}_fold_{fold_index}.csv\"\n",
    "\n",
    "# Train and test csv data for each fold.\n",
    "# [fold_index] should be within the range from 1 to [num_folds].\n",
    "train_csv_filename = \"data/train.csv\"\n",
    "test_csv_filename = \"data/test.csv\"\n",
    "\n",
    "# A parameter to get stable features for each fold.\n",
    "# Stable feature means the one appeared at least [appearance_threshold] times out of 100 LASSO trials.\n",
    "appearance_threshold = 95\n",
    "\n",
    "# Learning rate for XGBClassifier (default: 0.1)\n",
    "learning_rate = 0.06"
   ]
  },
  {
   "cell_type": "markdown",
   "metadata": {},
   "source": [
    "### Constants"
   ]
  },
  {
   "cell_type": "code",
   "execution_count": 2,
   "metadata": {},
   "outputs": [],
   "source": [
    "# Stacked XGBoost classifiers\n",
    "# First model: Migraine vs Non-migraine\n",
    "# Second model: Tension-type headache vs Non-TTH\n",
    "# Third model: Epicranial headache vs Thunderclap headache\n",
    "num_models = 3\n",
    "\n",
    "# Parameter K for K-fold cross validation.\n",
    "num_folds = 10\n",
    "\n",
    "# Subsequent class index\n",
    "class_dict = {\n",
    "    \"migraine\": 1,\n",
    "    \"tension-type headache\": 2,\n",
    "    \"epicranial headache\": 4,\n",
    "    \"thunderclap headache\": 5\n",
    "}\n",
    "\n",
    "# Dominant classes for each model\n",
    "class_indices = (\n",
    "    class_dict[\"migraine\"],\n",
    "    class_dict[\"tension-type headache\"],\n",
    "    class_dict[\"epicranial headache\"]\n",
    ")"
   ]
  },
  {
   "cell_type": "markdown",
   "metadata": {},
   "source": [
    "### The code"
   ]
  },
  {
   "cell_type": "code",
   "execution_count": 3,
   "metadata": {},
   "outputs": [],
   "source": [
    "from typing import List\n",
    "from collections import Counter\n",
    "import random\n",
    "\n",
    "import numpy as np\n",
    "import pandas as pd\n",
    "from xgboost import XGBClassifier\n",
    "import matplotlib.pyplot as plt\n",
    "\n",
    "from utils import *"
   ]
  },
  {
   "cell_type": "markdown",
   "metadata": {},
   "source": [
    "### Read feature appearance information for each K-fold."
   ]
  },
  {
   "cell_type": "code",
   "execution_count": 4,
   "metadata": {},
   "outputs": [],
   "source": [
    "# ---------------------------------------------------------------------------------\n",
    "# 1. Read feature appearance information\n",
    "# ---------------------------------------------------------------------------------\n",
    "features_demo = []\n",
    "for array_index in range(num_models):\n",
    "    model_index = array_index + 1\n",
    "    features_demo.append([])\n",
    "    for fold_index in range(1, num_folds + 1):\n",
    "        features_demo[array_index] += read_feature_appearance(\n",
    "            filename=feature_appearance_csv_filename.format(model_index=model_index, fold_index=fold_index),\n",
    "            threshold=appearance_threshold\n",
    "        )\n",
    "    features_demo[array_index] = Counter(features_demo[array_index]).most_common()"
   ]
  },
  {
   "cell_type": "markdown",
   "metadata": {},
   "source": [
    "### Select features, train models, and evaluate the models for each fold."
   ]
  },
  {
   "cell_type": "code",
   "execution_count": 5,
   "metadata": {},
   "outputs": [],
   "source": [
    "# For each fold, [test_accuracy, test_min_sensitivity, test_min_specificity] will be stored in [evaluation_matrix].\n",
    "evaluation_matrix = np.zeros((num_folds, 3))\n",
    "for selection_threshold in range(1, num_folds + 1):\n",
    "    # -----------------------------------------------------------------------------\n",
    "    # 2. Filter features\n",
    "    # -----------------------------------------------------------------------------\n",
    "    selected_features = []\n",
    "    should_skip = False\n",
    "    for features in features_demo:\n",
    "        sub_features_list = []\n",
    "        for feature_name, num_selected_times in features:\n",
    "            if num_selected_times >= selection_threshold:\n",
    "                sub_features_list.append(feature_name)\n",
    "        if len(sub_features_list) == 0:\n",
    "            should_skip = True\n",
    "            break\n",
    "        selected_features.append(sub_features_list)\n",
    "    if should_skip:\n",
    "        print(f\"Skip for stage {selection_threshold} as one of layers has no feature available,\")\n",
    "        evaluation_matrix[selection_threshold - 1] = [-1, -1, -1]\n",
    "        continue\n",
    "    # -----------------------------------------------------------------------------\n",
    "    # 3. Train a model\n",
    "    # -----------------------------------------------------------------------------\n",
    "    models = []\n",
    "    for array_index in range(num_models):\n",
    "        # When no feature is selected\n",
    "        model_index = array_index + 1\n",
    "        X_train, y_train, _ = read_demographics(train_csv_filename)\n",
    "        # Drop unnecessary subjects for each model.\n",
    "        if model_index == 2:  # TTH classifier\n",
    "            X_train, y_train = drop_subjects_by_classes(X_train, y_train, [class_dict[\"migraine\"]])\n",
    "        elif model_index == 3:  # Specific headache syndromes classifier\n",
    "            X_train, y_train = drop_subjects_by_classes(X_train, y_train,\n",
    "                                                        [class_dict[\"migraine\"], class_dict[\"tension-type headache\"]])\n",
    "        # Adjust Y\n",
    "        y_train = (y_train == class_indices[array_index]).astype(np.int32)\n",
    "        # Adjust X\n",
    "        X_train = X_train.loc[:, selected_features[array_index]].sort_index(axis=1)\n",
    "        # Train a model\n",
    "        model = XGBClassifier(objective='binary:logistic', learning_rate=learning_rate)\n",
    "        model.fit(X_train, y_train, eval_metric=\"auc\")\n",
    "        models.append(model)\n",
    "    # -----------------------------------------------------------------------------\n",
    "    # 4. Evaluate the model using independent dataset\n",
    "    # -----------------------------------------------------------------------------\n",
    "    X_test, y_test, _ = read_demographics(test_csv_filename)\n",
    "    migraine_index = 0\n",
    "    tth_index = 1\n",
    "    specific_syndrome_index = 2\n",
    "    # (1) Migraine classifier\n",
    "    X_test_migraine = X_test.loc[:, selected_features[migraine_index]].sort_index(axis=1)\n",
    "    y_pred_migraine = models[migraine_index].predict(X_test_migraine)\n",
    "    # (2) TTH classifier\n",
    "    tth_indices = np.where(y_pred_migraine != 1)[0]\n",
    "    X_test_tth = X_test.iloc[tth_indices, :].loc[:, selected_features[tth_index]].sort_index(axis=1)\n",
    "    y_pred_tth = models[tth_index].predict(X_test_tth)\n",
    "    # (3) Specific headache syndromes classifier\n",
    "    specific_syndrome_indices = tth_indices[np.where(y_pred_tth != 1)[0]]\n",
    "    X_test_specific_syndrome = X_test.iloc[specific_syndrome_indices, :].loc[:,\n",
    "                               selected_features[specific_syndrome_index]].sort_index(axis=1)\n",
    "    y_pred_specific_syndrome = models[specific_syndrome_index].predict(X_test_specific_syndrome)\n",
    "    # Adjust prediction class\n",
    "    y_pred = y_pred_migraine.copy()\n",
    "    y_pred[y_pred_migraine == 1] = class_indices[migraine_index]\n",
    "    y_pred[tth_indices[y_pred_tth == 1]] = class_indices[tth_index]\n",
    "    if class_indices[specific_syndrome_index] == class_dict[\"epicranial headache\"]:\n",
    "        y_pred[specific_syndrome_indices[y_pred_specific_syndrome == 0]] = class_dict[\"thunderclap headache\"]\n",
    "        y_pred[specific_syndrome_indices[y_pred_specific_syndrome == 1]] = class_dict[\"epicranial headache\"]\n",
    "    else:\n",
    "        y_pred[specific_syndrome_indices[y_pred_specific_syndrome == 0]] = class_dict[\"epicranial headache\"]\n",
    "        y_pred[specific_syndrome_indices[y_pred_specific_syndrome == 1]] = class_dict[\"thunderclap headache\"]\n",
    "    # Evaluate scores\n",
    "    test_accuracy = np.mean(y_pred == y_test)\n",
    "    test_conf_mat = confusion_matrix(y_test, y_pred)\n",
    "    # Get minimum sensitivity and specificity.\n",
    "    test_min_sensitivity = 1\n",
    "    test_min_specificity = 1\n",
    "    for i in range(test_conf_mat.shape[0]):\n",
    "        sensitivity = test_conf_mat[i, i] / np.sum(test_conf_mat[:, i])\n",
    "        test_min_sensitivity = min(sensitivity, test_min_sensitivity)\n",
    "        specificity = test_conf_mat[i, i] / np.sum(test_conf_mat[i, :])\n",
    "        test_min_specificity = min(specificity, test_min_specificity)\n",
    "    # -----------------------------------------------------------------------------\n",
    "    # 5. Save evaluated scores in [evaluation_matrix].\n",
    "    # -----------------------------------------------------------------------------\n",
    "    evaluation_matrix[selection_threshold - 1] = [test_accuracy, test_min_sensitivity, test_min_specificity]"
   ]
  },
  {
   "cell_type": "markdown",
   "metadata": {},
   "source": [
    "### Test Result\n",
    "Negative value means the corresponding fold has been skipped."
   ]
  },
  {
   "cell_type": "code",
   "execution_count": 6,
   "metadata": {},
   "outputs": [
    {
     "name": "stdout",
     "output_type": "stream",
     "text": [
      "         Accuracy  Sensitivity  Specificity\n",
      "Fold 1   0.838828     0.500000     0.377049\n",
      "Fold 2   0.836386     0.446809     0.344262\n",
      "Fold 3   0.837607     0.500000     0.393443\n",
      "Fold 4   0.840049     0.488889     0.360656\n",
      "Fold 5   0.835165     0.468085     0.360656\n",
      "Fold 6   0.836386     0.483871     0.377049\n",
      "Fold 7   0.837607     0.488889     0.360656\n",
      "Fold 8   0.836386     0.440000     0.360656\n",
      "Fold 9   0.825397     0.418605     0.295082\n",
      "Fold 10  0.822955     0.372093     0.262295\n"
     ]
    }
   ],
   "source": [
    "print(pd.DataFrame(evaluation_matrix,\n",
    "                   index=[f\"Fold {i}\" for i in range(1, num_folds + 1)],\n",
    "                   columns=[\"Accuracy\", \"Sensitivity\", \"Specificity\"]))"
   ]
  }
 ],
 "metadata": {
  "kernelspec": {
   "display_name": "Python 3",
   "language": "python",
   "name": "python3"
  },
  "language_info": {
   "codemirror_mode": {
    "name": "ipython",
    "version": 3
   },
   "file_extension": ".py",
   "mimetype": "text/x-python",
   "name": "python",
   "nbconvert_exporter": "python",
   "pygments_lexer": "ipython3",
   "version": "3.7.1"
  }
 },
 "nbformat": 4,
 "nbformat_minor": 2
}
